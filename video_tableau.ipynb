{
 "cells": [
  {
   "cell_type": "markdown",
   "metadata": {},
   "source": [
    "# Sage-Combinat Widgets Demo"
   ]
  },
  {
   "cell_type": "markdown",
   "metadata": {},
   "source": [
    "The Sage-Combinat widgets library provides interactive visual editors for some of the combinatorial objects of the Sage library, based on Jupyter's widgets framework. At this stage, the focus is on objects that have a natural representation as a collection of cells layed upon a grid, like integer partitions, tableaux, aztec diamonds, or matrices.\n",
    "\n",
    "We start by importing the library:"
   ]
  },
  {
   "cell_type": "code",
   "execution_count": 1,
   "metadata": {},
   "outputs": [
    {
     "data": {
      "application/vnd.jupyter.widget-view+json": {
       "model_id": "c64f3c8a4ed549519f500f94c274cbcb",
       "version_major": 2,
       "version_minor": 0
      },
      "text/plain": [
       "SFRNTCh2YWx1ZT11IjxzdHlsZT4ud2lkZ2V0LXRleHQgSU5QVVQgeyBib3JkZXItY29sbGFwc2U6IGNvbGxhcHNlICFpbXBvcnRhbnR9XG4uZ3JpZGJ1dHRvbiB7Ym9yZGVyOjFweCBzb2xpZCDigKY=\n"
      ]
     },
     "metadata": {},
     "output_type": "display_data"
    }
   ],
   "source": [
    "from sage_combinat_widgets import *\n",
    "from sage_combinat_widgets.grid_view_widget import *"
   ]
  },
  {
   "cell_type": "markdown",
   "metadata": {},
   "source": [
    "## Interactive edition of Young tableaux\n",
    "*(with text inputs)*"
   ]
  },
  {
   "cell_type": "code",
   "execution_count": 6,
   "metadata": {},
   "outputs": [],
   "source": [
    "# A Young tableau\n",
    "t = StandardTableaux(15).random_element()"
   ]
  },
  {
   "cell_type": "code",
   "execution_count": 14,
   "metadata": {
    "scrolled": true
   },
   "outputs": [
    {
     "data": {
      "application/vnd.jupyter.widget-view+json": {
       "model_id": "d1f2b5c0ae274f8cb26a19649babfa40",
       "version_major": 2,
       "version_minor": 0
      },
      "text/plain": [
       "R3JpZFZpZXdXaWRnZXQodmFsdWU9W1sxLCAyLCA2LCA4LCAxM10sIFszLCA1LCA5LCAxMF0sIFs0LCAxMSwgMTQsIDE1XSwgWzcsIDEyXV0sIGNoaWxkcmVuPShIQm94KGNoaWxkcmVuPShUZXjigKY=\n"
      ]
     },
     "metadata": {},
     "output_type": "display_data"
    }
   ],
   "source": [
    "wt = GridViewWidget(t)\n",
    "wt"
   ]
  },
  {
   "cell_type": "code",
   "execution_count": 15,
   "metadata": {},
   "outputs": [
    {
     "data": {
      "text/plain": [
       "[[1, 2, 6, 8, 13], [3, 5, 9, 10], [4, 11, 14, 15], [7, 12]]"
      ]
     },
     "execution_count": 15,
     "metadata": {},
     "output_type": "execute_result"
    }
   ],
   "source": [
    "wt.value"
   ]
  }
 ],
 "metadata": {
  "kernelspec": {
   "display_name": "SageMath 8.6",
   "language": "",
   "name": "sagemath"
  },
  "language_info": {
   "codemirror_mode": {
    "name": "ipython",
    "version": 2
   },
   "file_extension": ".py",
   "mimetype": "text/x-python",
   "name": "python",
   "nbconvert_exporter": "python",
   "pygments_lexer": "ipython2",
   "version": "2.7.15"
  }
 },
 "nbformat": 4,
 "nbformat_minor": 2
}
