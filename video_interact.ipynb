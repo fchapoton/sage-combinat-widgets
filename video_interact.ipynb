{
 "cells": [
  {
   "cell_type": "markdown",
   "metadata": {},
   "source": [
    "# Sage-Combinat Widgets Demo"
   ]
  },
  {
   "cell_type": "markdown",
   "metadata": {},
   "source": [
    "The Sage-Combinat widgets library provides interactive visual editors for some of the combinatorial objects of the Sage library, based on Jupyter's widgets framework. At this stage, the focus is on objects that have a natural representation as a collection of cells layed upon a grid, like integer partitions, tableaux, aztec diamonds, or matrices.\n",
    "\n",
    "We start by importing the library:"
   ]
  },
  {
   "cell_type": "code",
   "execution_count": 1,
   "metadata": {},
   "outputs": [
    {
     "data": {
      "application/vnd.jupyter.widget-view+json": {
       "model_id": "7d336decba7349128741f37d966e5356",
       "version_major": 2,
       "version_minor": 0
      },
      "text/plain": [
       "SFRNTCh2YWx1ZT11IjxzdHlsZT4ud2lkZ2V0LXRleHQgSU5QVVQgeyBib3JkZXItY29sbGFwc2U6IGNvbGxhcHNlICFpbXBvcnRhbnR9XG4uZ3JpZGJ1dHRvbiB7Ym9yZGVyOjFweCBzb2xpZCDigKY=\n"
      ]
     },
     "metadata": {},
     "output_type": "display_data"
    }
   ],
   "source": [
    "from sage_combinat_widgets import *\n",
    "from sage_combinat_widgets.grid_view_widget import *"
   ]
  },
  {
   "cell_type": "markdown",
   "metadata": {},
   "source": [
    "## Interactive editor as building block for interactive applications"
   ]
  },
  {
   "cell_type": "markdown",
   "metadata": {},
   "source": [
    "Thanks to Jupyter's widgets framework, such an interactive editor is not just a gadget by itself, but can be used as building block for interactive applications. Here is a minimal example letting the user interactively explore how the hook lengths of a partition evolves with the partition:"
   ]
  },
  {
   "cell_type": "code",
   "execution_count": 2,
   "metadata": {},
   "outputs": [
    {
     "data": {
      "application/vnd.jupyter.widget-view+json": {
       "model_id": "856738773c054325b5903d628daf559a",
       "version_major": 2,
       "version_minor": 0
      },
      "text/plain": [
       "SW50ZXJhY3RpdmUgZnVuY3Rpb24gPGZ1bmN0aW9uIGYgYXQgMHg3ZmQ2YWQ2MjkzMjA+IHdpdGggMSB3aWRnZXQKICBwOiBHcmlkVmlld1dpZGdldCh2YWx1ZT1bMiwgMV0sIGNoaWxkcmVuPSjigKY=\n"
      ]
     },
     "metadata": {},
     "output_type": "display_data"
    }
   ],
   "source": [
    "%display unicode_art\n",
    "p_input = PartitionGridViewWidget(Partition([2,1]))\n",
    "@interact\n",
    "def f(p = p_input):\n",
    "    return Tableau(p.hook_lengths())"
   ]
  },
  {
   "cell_type": "markdown",
   "metadata": {},
   "source": [
    "As a more advanced application, we build a mini application for interactively exploring products of Schur functions:"
   ]
  },
  {
   "cell_type": "code",
   "execution_count": 3,
   "metadata": {},
   "outputs": [
    {
     "data": {
      "application/vnd.jupyter.widget-view+json": {
       "model_id": "96c9ae807768470c934c89406c365631",
       "version_major": 2,
       "version_minor": 0
      },
      "text/plain": [
       "SW50ZXJhY3RpdmUgZnVuY3Rpb24gPGZ1bmN0aW9uIGYgYXQgMHg3ZmQ2YWQ0MmY0ODg+IHdpdGggMiB3aWRnZXRzCiAgbGE6IEdyaWRWaWV3V2lkZ2V0KHZhbHVlPVsyLCAxXSwgY2hpbGRyZW7igKY=\n"
      ]
     },
     "metadata": {},
     "output_type": "display_data"
    }
   ],
   "source": [
    "S = SymmetricFunctions(QQ)\n",
    "s = S.s()\n",
    "la_input = PartitionGridViewWidget(Partition([2,1]))\n",
    "mu_input = PartitionGridViewWidget(Partition([2,1]))\n",
    "@interact\n",
    "def f(la = la_input, mu = mu_input):\n",
    "    return s[la] * s[mu]"
   ]
  },
  {
   "cell_type": "code",
   "execution_count": 4,
   "metadata": {},
   "outputs": [
    {
     "data": {
      "text/plain": [
       "⎛ ┌┬┬┬┐  ┌┬┐ ⎞\n",
       "⎜ ├┼┴┴┘  ├┼┤ ⎟\n",
       "⎝ └┘   , └┴┘ ⎠"
      ]
     },
     "execution_count": 4,
     "metadata": {},
     "output_type": "execute_result"
    }
   ],
   "source": [
    "la_input.value, mu_input.value"
   ]
  }
 ],
 "metadata": {
  "kernelspec": {
   "display_name": "SageMath 8.6",
   "language": "",
   "name": "sagemath"
  },
  "language_info": {
   "codemirror_mode": {
    "name": "ipython",
    "version": 2
   },
   "file_extension": ".py",
   "mimetype": "text/x-python",
   "name": "python",
   "nbconvert_exporter": "python",
   "pygments_lexer": "ipython2",
   "version": "2.7.15"
  }
 },
 "nbformat": 4,
 "nbformat_minor": 2
}
