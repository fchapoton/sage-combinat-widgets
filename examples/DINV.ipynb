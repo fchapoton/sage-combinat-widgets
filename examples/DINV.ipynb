{
 "cells": [
  {
   "cell_type": "code",
   "execution_count": null,
   "metadata": {},
   "outputs": [],
   "source": [
    "from sage.combinat.skew_tableau import SkewTableaux\n",
    "from sage.combinat.partition import Partition\n",
    "from sage_widget_adapters.combinat.skew_tableau_grid_view_adapter import SkewTableauGridViewAdapter\n",
    "from sage_combinat_widgets import GridViewWidget"
   ]
  },
  {
   "cell_type": "code",
   "execution_count": null,
   "metadata": {},
   "outputs": [],
   "source": [
    "class DINV(SkewTableau):\n",
    "    def __init__(self, st, size):\n",
    "        super(DINV, self).__init__(SkewTableaux(), st)\n",
    "        self._st = SkewTableau(st)\n",
    "        self.size = size\n",
    "        \n",
    "    def envelope(self):\n",
    "        l = range(self.size+1)\n",
    "        l.reverse()\n",
    "        return Partition(l)\n",
    "\n",
    "    def outer_envelope(self):\n",
    "        return SkewPartition([self.envelope(), self._st.outer_shape()])\n",
    "\n",
    "d = DINV([[1,1],[2],[3],[4],[5]], 5)\n",
    "d.envelope(), d.cells(), d.outer_envelope()"
   ]
  },
  {
   "cell_type": "code",
   "execution_count": null,
   "metadata": {},
   "outputs": [],
   "source": [
    "class DINVAdapter(SkewTableauGridViewAdapter):\n",
    "    r\"\"\"\n",
    "    Grid view adapter for DINVs.\n",
    "\n",
    "    ATTRIBUTES ::\n",
    "\n",
    "        * ``objclass`` -- class of Sage objects\n",
    "        * ``celltype`` -- cell content type\n",
    "        * ``cellzero`` -- cell content zero\n",
    "    \"\"\"\n",
    "    objclass = DINV\n",
    "    celltype = Integer\n",
    "    cellzero = 0\n",
    "\n",
    "    @staticmethod\n",
    "    def addable_cells(obj):\n",
    "        return obj.outer_envelope().cells()\n",
    "        \n",
    "da = DINVAdapter()\n",
    "da.addable_cells(d)"
   ]
  }
 ],
 "metadata": {
  "kernelspec": {
   "display_name": "SageMath 8.6",
   "language": "",
   "name": "sagemath"
  },
  "language_info": {
   "codemirror_mode": {
    "name": "ipython",
    "version": 2
   },
   "file_extension": ".py",
   "mimetype": "text/x-python",
   "name": "python",
   "nbconvert_exporter": "python",
   "pygments_lexer": "ipython2",
   "version": "2.7.15"
  }
 },
 "nbformat": 4,
 "nbformat_minor": 2
}
