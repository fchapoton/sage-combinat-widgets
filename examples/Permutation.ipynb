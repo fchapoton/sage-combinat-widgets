{
 "cells": [
  {
   "cell_type": "code",
   "execution_count": null,
   "metadata": {},
   "outputs": [],
   "source": [
    "from sage.combinat.permutation import *\n",
    "from sage_widget_adapters.generic_grid_view_adapter import GridViewAdapter\n",
    "from six import text_type\n",
    "\n",
    "class PermutationGridViewAdapter(GridViewAdapter):\n",
    "    r\"\"\"\n",
    "    Grid view adapter for permutations.\n",
    "\n",
    "    ATTRIBUTES::\n",
    "        * ``objclass`` -- Permutation\n",
    "        * ``celltype`` -- bool\n",
    "        * ``cellzero`` -- False\n",
    "    \"\"\"\n",
    "    objclass = Permutation\n",
    "    #constructorname = 'Permutation'\n",
    "    celltype = bool\n",
    "    cellzero = False\n",
    "\n",
    "    @staticmethod\n",
    "    def compute_cells(obj):\n",
    "        r\"\"\"\n",
    "        From a permutation,\n",
    "        return a dictionary { coordinates pair : Integer }\n",
    "        \"\"\"\n",
    "        return {(0,i):obj[i] for i in range(len(obj))}\n",
    "\n",
    "pa = PermutationGridViewAdapter()"
   ]
  },
  {
   "cell_type": "code",
   "execution_count": null,
   "metadata": {},
   "outputs": [],
   "source": [
    "from sage_combinat_widgets import GridViewWidget\n",
    "p0 = Permutation([2,3,4,5,1])\n",
    "w = GridViewWidget(p0, pa)"
   ]
  },
  {
   "cell_type": "code",
   "execution_count": null,
   "metadata": {},
   "outputs": [],
   "source": [
    "from ipywidgets import Button, HBox, VBox, Layout\n",
    "from copy import copy\n",
    "blyt = Layout(width='30px', height='30px')\n",
    "lyt = Layout(margin='25px')\n",
    "p = copy(p0)\n",
    "hist = [p]\n",
    "def move(b):\n",
    "    global p, hist\n",
    "    p = p0 * p\n",
    "    hist.append(p)\n",
    "b1 = Button(description='+', layout=blyt)\n",
    "b1.on_click(move)\n",
    "def back(b):\n",
    "    global hist\n",
    "    hist.pop()\n",
    "    if not hist:\n",
    "        print(\"Can't go back any further!\")\n",
    "        hist = [p0]\n",
    "        return\n",
    "    p = hist[-1]\n",
    "b2 = Button(description='-', layout=blyt)\n",
    "b2.on_click(back)\n",
    "box = HBox(children=(w,HBox(children=(b2,b1), layout=lyt)))\n",
    "box"
   ]
  },
  {
   "cell_type": "code",
   "execution_count": null,
   "metadata": {},
   "outputs": [],
   "source": [
    "print(hist)"
   ]
  },
  {
   "cell_type": "code",
   "execution_count": null,
   "metadata": {},
   "outputs": [],
   "source": [
    "wp = GridViewWidget(p0, pa)\n",
    "wp"
   ]
  }
 ],
 "metadata": {
  "kernelspec": {
   "display_name": "SageMath 8.6",
   "language": "",
   "name": "sagemath"
  },
  "language_info": {
   "codemirror_mode": {
    "name": "ipython",
    "version": 2
   },
   "file_extension": ".py",
   "mimetype": "text/x-python",
   "name": "python",
   "nbconvert_exporter": "python",
   "pygments_lexer": "ipython2",
   "version": "2.7.15"
  }
 },
 "nbformat": 4,
 "nbformat_minor": 2
}
