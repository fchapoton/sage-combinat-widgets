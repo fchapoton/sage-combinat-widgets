{
 "cells": [
  {
   "cell_type": "code",
   "execution_count": null,
   "metadata": {},
   "outputs": [],
   "source": [
    "from sage.combinat.permutation import *\n",
    "from sage_widget_adapters.generic_grid_view_adapter import GridViewAdapter\n",
    "from six import text_type\n",
    "\n",
    "class PermutationGridViewAdapter(GridViewAdapter):\n",
    "    r\"\"\"\n",
    "    Grid view adapter for permutations.\n",
    "\n",
    "    ATTRIBUTES::\n",
    "        * ``objclass`` -- Permutation\n",
    "        * ``celltype`` -- bool\n",
    "        * ``cellzero`` -- False\n",
    "    \"\"\"\n",
    "    objclass = Permutation\n",
    "    celltype = Integer\n",
    "    cellzero = 0\n",
    "\n",
    "    @staticmethod\n",
    "    def compute_cells(obj):\n",
    "        r\"\"\"\n",
    "        From a permutation,\n",
    "        return a dictionary { coordinates pair : Integer }\n",
    "        \"\"\"\n",
    "        return {(0,i):obj[i] for i in range(len(obj))}\n",
    "\n",
    "pa = PermutationGridViewAdapter()"
   ]
  },
  {
   "cell_type": "code",
   "execution_count": null,
   "metadata": {},
   "outputs": [],
   "source": [
    "from sage_combinat_widgets import GridViewWidget, BlankButton\n",
    "p0 = Permutation([2,3,4,5,1])\n",
    "#w = GridViewWidget(p0)\n",
    "w = GridViewWidget(p0, pa)\n",
    "w"
   ]
  },
  {
   "cell_type": "code",
   "execution_count": null,
   "metadata": {
    "scrolled": false
   },
   "outputs": [],
   "source": [
    "from ipywidgets import Button, HBox, Layout\n",
    "blyt = Layout(width='30px', height='30px')\n",
    "b1 = Button(description='+', layout=blyt)\n",
    "b2 = Button(description='-', layout=blyt)\n",
    "def move(b):\n",
    "    w.value = p0 * w.value\n",
    "b1.on_click(move)\n",
    "def back(b):\n",
    "    w.pop_value()\n",
    "b2.on_click(back)\n",
    "b0 = BlankButton() # just a spacer\n",
    "HBox([w,b0,b2,b1])"
   ]
  },
  {
   "cell_type": "code",
   "execution_count": null,
   "metadata": {},
   "outputs": [],
   "source": [
    "w.value"
   ]
  }
 ],
 "metadata": {
  "kernelspec": {
   "display_name": "SageMath 8.6",
   "language": "",
   "name": "sagemath"
  },
  "language_info": {
   "codemirror_mode": {
    "name": "ipython",
    "version": 2
   },
   "file_extension": ".py",
   "mimetype": "text/x-python",
   "name": "python",
   "nbconvert_exporter": "python",
   "pygments_lexer": "ipython2",
   "version": "2.7.15"
  }
 },
 "nbformat": 4,
 "nbformat_minor": 2
}
