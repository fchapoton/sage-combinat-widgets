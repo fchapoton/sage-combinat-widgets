{
 "cells": [
  {
   "cell_type": "code",
   "execution_count": null,
   "metadata": {},
   "outputs": [],
   "source": [
    "from sage.combinat.permutation import *\n",
    "from sage_widget_adapters.generic_grid_view_adapter import GridViewAdapter\n",
    "from six import text_type\n",
    "\n",
    "class PermutationGridViewAdapter(GridViewAdapter):\n",
    "    r\"\"\"\n",
    "    Grid view adapter for permutations.\n",
    "\n",
    "    ATTRIBUTES::\n",
    "        * ``objclass`` -- Permutation\n",
    "        * ``celltype`` -- bool\n",
    "        * ``cellzero`` -- False\n",
    "    \"\"\"\n",
    "    objclass = Permutation\n",
    "    #constructorname = 'Permutation'\n",
    "    celltype = bool\n",
    "    cellzero = False\n",
    "\n",
    "    @staticmethod\n",
    "    def compute_cells(obj):\n",
    "        r\"\"\"\n",
    "        From a permutation,\n",
    "        return a dictionary { coordinates pair : Integer }\n",
    "        \"\"\"\n",
    "        return {(0,i):obj[i] for i in range(len(obj))}\n",
    "    \n",
    "    @staticmethod\n",
    "    def move(obj, **kws):\n",
    "        r\"\"\"\n",
    "        Run a transformation on the permutation.\n",
    "\n",
    "        TESTS::\n",
    "            sage: from sage.combinat.permutation import Permutation\n",
    "            sage: from sage_widget_adapters.combinat.permutation_grid_view_adapter import PermutationGridViewAdapter\n",
    "            sage: p = Permutation([2, 3, 4, 5, 1])\n",
    "            sage: PermutationGridViewAdapter.move(p)\n",
    "            [3, 4, 5, 1, 2]\n",
    "            sage: PermutationGridViewAdapter.move(Permutation([3, 4, 5, 1, 2]), direction='backward', history = [p])\n",
    "            [2, 3, 4, 5, 1]\n",
    "        \"\"\"\n",
    "        if 'action' in kws and kws['action'] != 'compose': # Only 'compose' action is implemented\n",
    "            raise NotImplementedError(\"Action {} is not implemented\" . format(action))\n",
    "        if 'direction' in kws and kws['direction'] not in ['forward', 'backward']:\n",
    "            raise NotImplementedError(\"Direction {} is not implemented\" . format(direction))\n",
    "        elif 'direction' in kws:\n",
    "            direction = kws['direction']\n",
    "        else:\n",
    "            direction = 'forward'\n",
    "        if 'by' in kws:\n",
    "            compose_by = kws['by']\n",
    "        else:\n",
    "            compose_by = obj\n",
    "        if direction == 'forward':\n",
    "            return compose_by * obj\n",
    "        elif direction == 'backward':\n",
    "            if 'history' in kws:\n",
    "                return kws['history'][-1]\n",
    "            else:\n",
    "                return compose_by.inverse() * obj\n",
    "\n",
    "pa = PermutationGridViewAdapter()"
   ]
  },
  {
   "cell_type": "code",
   "execution_count": null,
   "metadata": {},
   "outputs": [],
   "source": [
    "from sage_combinat_widgets import GridViewWidget\n",
    "p0 = Permutation([2,3,4,5,1])\n",
    "w = GridViewWidget(p0, pa, move_actions=['compose'])"
   ]
  },
  {
   "cell_type": "code",
   "execution_count": null,
   "metadata": {},
   "outputs": [],
   "source": [
    "w.children[0].children[0].children[0].children[0].__class__.__mro__"
   ]
  },
  {
   "cell_type": "code",
   "execution_count": null,
   "metadata": {},
   "outputs": [],
   "source": [
    "from ipywidgets import Button, HBox, VBox, Layout\n",
    "from copy import copy\n",
    "blyt = Layout(width='30px', height='30px')\n",
    "lyt = Layout(margin='25px')\n",
    "p = copy(p0)\n",
    "hist = [p]\n",
    "def move(b):\n",
    "    global p, hist\n",
    "    p = p0 * p\n",
    "    hist.append(p)\n",
    "b1 = Button(description='+', layout=blyt)\n",
    "b1.on_click(move)\n",
    "def back(b):\n",
    "    global hist\n",
    "    hist.pop()\n",
    "    if not hist:\n",
    "        print(\"Can't go back any further!\")\n",
    "        hist = [p0]\n",
    "        return\n",
    "    p = hist[-1]\n",
    "b2 = Button(description='-', layout=blyt)\n",
    "b2.on_click(back)\n",
    "box = HBox(children=(w,HBox(children=(b2,b1), layout=lyt)))\n",
    "box"
   ]
  },
  {
   "cell_type": "code",
   "execution_count": null,
   "metadata": {},
   "outputs": [],
   "source": [
    "print(hist)"
   ]
  },
  {
   "cell_type": "code",
   "execution_count": null,
   "metadata": {},
   "outputs": [],
   "source": [
    "wp = GridViewWidget(p0, pa)\n",
    "wp"
   ]
  }
 ],
 "metadata": {
  "kernelspec": {
   "display_name": "SageMath 8.6",
   "language": "",
   "name": "sagemath"
  },
  "language_info": {
   "codemirror_mode": {
    "name": "ipython",
    "version": 2
   },
   "file_extension": ".py",
   "mimetype": "text/x-python",
   "name": "python",
   "nbconvert_exporter": "python",
   "pygments_lexer": "ipython2",
   "version": "2.7.15"
  }
 },
 "nbformat": 4,
 "nbformat_minor": 2
}
