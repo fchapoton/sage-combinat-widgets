{
 "cells": [
  {
   "cell_type": "markdown",
   "metadata": {},
   "source": [
    "Let's say I want to play with a Matrix, ie edit cells, add or drop rows or columns.\n",
    "First, I will import the Grid View Widget (as a matrix is grid-representable), and pick a matrix."
   ]
  },
  {
   "cell_type": "code",
   "execution_count": null,
   "metadata": {},
   "outputs": [],
   "source": [
    "from sage_combinat_widgets import *\n",
    "from sage_widget_adapters.generic_grid_view_adapter import GridViewAdapter"
   ]
  },
  {
   "cell_type": "code",
   "execution_count": null,
   "metadata": {},
   "outputs": [],
   "source": [
    "from sage.matrix.constructor import Matrix\n",
    "m = Matrix(QQ, 3, 4, range(12))\n",
    "m"
   ]
  },
  {
   "cell_type": "markdown",
   "metadata": {},
   "source": [
    "Let's try the generic adapter."
   ]
  },
  {
   "cell_type": "code",
   "execution_count": null,
   "metadata": {},
   "outputs": [],
   "source": [
    "ma = GridViewAdapter()\n",
    "GridViewWidget(m,ma)"
   ]
  },
  {
   "cell_type": "markdown",
   "metadata": {},
   "source": [
    "To be able to display this matrix with a grid representation, we need to write an adapter.\n",
    "First, we need to tell the widget which type are our matrix cells, and which would be a default cell content."
   ]
  },
  {
   "cell_type": "code",
   "execution_count": null,
   "metadata": {},
   "outputs": [],
   "source": [
    "class MyAdapter(GridViewAdapter):\n",
    "    celltype = Integer\n",
    "    cellzero = Integer(0)"
   ]
  },
  {
   "cell_type": "code",
   "execution_count": null,
   "metadata": {},
   "outputs": [],
   "source": [
    "ma = MyAdapter()\n",
    "GridViewWidget(m,ma)"
   ]
  },
  {
   "cell_type": "markdown",
   "metadata": {},
   "source": [
    "We need to tell the widget which cells are to be displayed."
   ]
  },
  {
   "cell_type": "code",
   "execution_count": null,
   "metadata": {},
   "outputs": [],
   "source": [
    "class MyAdapter(GridViewAdapter):\n",
    "    celltype = Integer\n",
    "    cellzero = Integer(0)\n",
    "\n",
    "    # See the documentation to check methods types and signatures\n",
    "    @staticmethod\n",
    "    def compute_cells(obj):\n",
    "        \"\"\"Compute cell positions.\"\"\"\n",
    "        from itertools import product\n",
    "        return {(i,j):obj[i][j] for (i,j) in product(range(obj.nrows()), range(len(obj[0])))}"
   ]
  },
  {
   "cell_type": "code",
   "execution_count": null,
   "metadata": {},
   "outputs": [],
   "source": [
    "ma = MyAdapter()\n",
    "GridViewWidget(m,ma)"
   ]
  },
  {
   "cell_type": "markdown",
   "metadata": {},
   "source": [
    "As our matrix widget should be editable, we need accessors for cell contents, and finally a method to get a new matrix value."
   ]
  },
  {
   "cell_type": "code",
   "execution_count": null,
   "metadata": {},
   "outputs": [],
   "source": [
    "class MyAdapter(GridViewAdapter):\n",
    "    celltype = Integer\n",
    "    cellzero = Integer(0)\n",
    "\n",
    "    # See the documentation to check methods types and signatures\n",
    "    @staticmethod\n",
    "    def compute_cells(obj):\n",
    "        \"\"\"Compute cell positions.\"\"\"\n",
    "        from itertools import product\n",
    "        return {(i,j):obj[i][j] for (i,j) in product(range(obj.nrows()), range(len(obj[0])))}\n",
    "\n",
    "    @staticmethod\n",
    "    def get_cell(obj, pos):\n",
    "        \"\"\"Return cell content\"\"\"\n",
    "        if pos[0] >= obj.nrows() or pos[1] >= obj.ncols():\n",
    "            raise ValueError(\"Entry '%s' does not exist!\" % pos)\n",
    "        return obj[pos[0]][pos[1]]\n",
    "\n",
    "    @classmethod\n",
    "    def set_cell(cls, obj, pos, val):\n",
    "        \"\"\"Set cell content to `val`\"\"\"\n",
    "        if not val in obj.base_ring():\n",
    "            raise TypeError(\"Value '%s' is not compatible!\" % val)\n",
    "        obj.set_block(pos[0], pos[1], matrix(obj.base_ring(), 1, 1, val))\n",
    "        return obj\n",
    "    \n",
    "    @classmethod\n",
    "    def from_cells(cls, cells={}):\n",
    "        \"\"\"Compute a new matrix from a cells dictionary `cells`\"\"\"\n",
    "        nrows = max(pos[0]+1 for pos in cells)\n",
    "        ncols = max(pos[1]+1 for pos in cells)\n",
    "        return matrix([[cells[(i,j)] for j in range(ncols)] for i in range(nrows)])\n"
   ]
  },
  {
   "cell_type": "code",
   "execution_count": null,
   "metadata": {},
   "outputs": [],
   "source": [
    "ma = MyAdapter()\n",
    "w = GridViewWidget(m,ma)\n",
    "w"
   ]
  },
  {
   "cell_type": "code",
   "execution_count": null,
   "metadata": {},
   "outputs": [],
   "source": [
    "w.value"
   ]
  },
  {
   "cell_type": "code",
   "execution_count": null,
   "metadata": {},
   "outputs": [],
   "source": [
    "from ipywidgets import HBox, Label\n",
    "m_input = GridViewWidget(m)\n",
    "@interact\n",
    "def f(x = m_input):\n",
    "    return HBox((GridViewWidget(x),Label('>>>>'), GridViewWidget(x*2)))"
   ]
  }
 ],
 "metadata": {
  "kernelspec": {
   "display_name": "SageMath 8.2",
   "language": "",
   "name": "sagemath"
  },
  "language_info": {
   "codemirror_mode": {
    "name": "ipython",
    "version": 2
   },
   "file_extension": ".py",
   "mimetype": "text/x-python",
   "name": "python",
   "nbconvert_exporter": "python",
   "pygments_lexer": "ipython2",
   "version": "2.7.14"
  }
 },
 "nbformat": 4,
 "nbformat_minor": 2
}
