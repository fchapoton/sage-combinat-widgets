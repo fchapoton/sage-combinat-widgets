{
 "cells": [
  {
   "cell_type": "code",
   "execution_count": null,
   "metadata": {},
   "outputs": [],
   "source": [
    "from traitlets import Unicode#, Bool, validate, TraitError\n",
    "from ipywidgets import register, Text\n",
    "#from sage_combinat_widgets.grid_view_widget import TextCell\n",
    "\n",
    "@register\n",
    "class TextWithTitle(Text):\n",
    "    _view_name = Unicode('TextWithTitleView').tag(sync=True)\n",
    "    _view_module = Unicode('text_with_title').tag(sync=True)\n",
    "    _view_module_version = Unicode('0.1.0').tag(sync=True)\n",
    "    \n",
    "    # Special attribute\n",
    "    tooltip = Unicode('Hello! title', help=\"Text in the title/tooltip.\").tag(sync=True)"
   ]
  },
  {
   "cell_type": "code",
   "execution_count": null,
   "metadata": {},
   "outputs": [],
   "source": [
    "%%javascript\n",
    "require.undef('text_with_title');\n",
    "\n",
    "function listProperties(obj) {\n",
    "   var propList = \"\";\n",
    "   for(var propName in obj) {\n",
    "      if(typeof(obj[propName]) != \"undefined\") {\n",
    "         propList += (propName + \", \");\n",
    "      }\n",
    "   }\n",
    "   alert(propList);\n",
    "}\n",
    "define('text_with_title', [\"@jupyter-widgets/controls\"], function(widgets) {\n",
    "    //alert(widgets.TextView.prototype.render)\n",
    "\n",
    "    // Define the View\n",
    "    var TextWithTitleView = widgets.TextView.extend({\n",
    "        // Render the view.\n",
    "        render: function() {\n",
    "            alert('ok');\n",
    "            widgets.TextView.prototype.render.call(this);\n",
    "            //alert(widgets.TextView.prototype.render)\n",
    "            alert(this.el.children.item(1))\n",
    "            alert(this.textbox);\n",
    "            //listProperties(this.el);\n",
    "            //widgets.TextView.prototype.render(this);\n",
    "            //alert(this.el.children)\n",
    "            //alert(this)\n",
    "            //_super.prototype.render.call(this)\n",
    "            //alert(this.el.children)\n",
    "            this.textbox.title = 'ok';\n",
    "        },\n",
    "    });\n",
    "\n",
    "    return {\n",
    "        TextWithTitleView: TextWithTitleView\n",
    "    }\n",
    "});"
   ]
  },
  {
   "cell_type": "code",
   "execution_count": null,
   "metadata": {},
   "outputs": [],
   "source": [
    "w = TextWithTitle('Hello! value')\n",
    "#w.__dict__\n",
    "w"
   ]
  },
  {
   "cell_type": "code",
   "execution_count": null,
   "metadata": {},
   "outputs": [],
   "source": [
    "w.value"
   ]
  },
  {
   "cell_type": "code",
   "execution_count": null,
   "metadata": {},
   "outputs": [],
   "source": [
    "w.title"
   ]
  },
  {
   "cell_type": "code",
   "execution_count": null,
   "metadata": {},
   "outputs": [],
   "source": []
  },
  {
   "cell_type": "code",
   "execution_count": null,
   "metadata": {},
   "outputs": [],
   "source": []
  }
 ],
 "metadata": {
  "kernelspec": {
   "display_name": "SageMath 8.6",
   "language": "",
   "name": "sagemath"
  },
  "language_info": {
   "codemirror_mode": {
    "name": "ipython",
    "version": 2
   },
   "file_extension": ".py",
   "mimetype": "text/x-python",
   "name": "python",
   "nbconvert_exporter": "python",
   "pygments_lexer": "ipython2",
   "version": "2.7.15"
  }
 },
 "nbformat": 4,
 "nbformat_minor": 2
}
