{
 "cells": [
  {
   "cell_type": "markdown",
   "metadata": {
    "slideshow": {
     "slide_type": "slide"
    }
   },
   "source": [
    "<style>\n",
    "rendered_html {\n",
    "  font-size:0.8em;\n",
    "}\n",
    "</style>\n",
    "<center>\n",
    "    <h1>Sage Combinat Widgets short presentation</h1>\n",
    "\n",
    "<br>\n",
    "  <large><a href=\"http://github.com/zerline\">Odile Bénassy</a></large><br>\n",
    "  <a href=\"http://lri.fr\">Laboratoire de Recherche en Informatique</a><br>\n",
    "  <a href=\"http://www.u-psud.fr\">Université Paris Sud</a><br><br>\n",
    "  \n",
    "     \n",
    "  Calcul Mathématique Libre / Free Computational Mathematics<br/>\n",
    "  CIRM<br/>\n",
    "  February 12th of 2019<br/><br/>\n",
    "  \n",
    "  Slides: https://github.com/sagemath/sage-combinat-widgets/docs/presentation<br/>\n",
    "  Code: https://github.com/sagemath/sage-combinat-widgets<br/>\n",
    "</center>"
   ]
  },
  {
   "cell_type": "markdown",
   "metadata": {
    "slideshow": {
     "slide_type": "slide"
    }
   },
   "source": [
    "## Sage Combinat Widgets\n",
    "\n",
    "A collection of **interactive widgets** for the *Jupyter* notebook\n",
    "\n",
    "- graphically represent a math object"
   ]
  },
  {
   "cell_type": "markdown",
   "metadata": {
    "slideshow": {
     "slide_type": "fragment"
    }
   },
   "source": [
    "- edit graphically and retrieve the modified value"
   ]
  },
  {
   "cell_type": "markdown",
   "metadata": {
    "slideshow": {
     "slide_type": "fragment"
    }
   },
   "source": [
    "- can be used as building blocks in applications"
   ]
  },
  {
   "cell_type": "markdown",
   "metadata": {
    "slideshow": {
     "slide_type": "fragment"
    }
   },
   "source": [
    "- available for\n",
    "  - (until now only grid-representable) combinatorial objects\n",
    "  - (until now only grid-representable) graphs\n",
    "  - matrices\n",
    "  - write your own!"
   ]
  },
  {
   "cell_type": "markdown",
   "metadata": {
    "slideshow": {
     "slide_type": "slide"
    }
   },
   "source": [
    "## Editing a Young Tableau\n",
    "\n",
    "- edit/add/remove cells"
   ]
  },
  {
   "cell_type": "markdown",
   "metadata": {
    "slideshow": {
     "slide_type": "skip"
    }
   },
   "source": [
    "<table><tr><td><img width=\"110%\" height=\"100%\" src=\"./images/scrn-skewtableau.png\" /></td></tr></table>"
   ]
  },
  {
   "cell_type": "code",
   "execution_count": null,
   "metadata": {
    "slideshow": {
     "slide_type": "fragment"
    }
   },
   "outputs": [],
   "source": [
    "from sage_combinat_widgets import *\n",
    "from sage_combinat_widgets.grid_view_widget import *\n",
    "s = SkewTableau([[None, None, 1, 2], [None, 1], [4]])\n",
    "GridViewWidget(s)"
   ]
  },
  {
   "cell_type": "markdown",
   "metadata": {
    "slideshow": {
     "slide_type": "subslide"
    }
   },
   "source": [
    "### \"dirty\" editing"
   ]
  },
  {
   "cell_type": "code",
   "execution_count": null,
   "metadata": {
    "slideshow": {
     "slide_type": "fragment"
    }
   },
   "outputs": [],
   "source": [
    "%%html\n",
    "<video with=\"100%\" height=\"100%\" controls><source src=\"./demo_youngtableau.ogv\"></video>\n"
   ]
  },
  {
   "cell_type": "markdown",
   "metadata": {
    "slideshow": {
     "slide_type": "slide"
    }
   },
   "source": [
    "## Using @interact\n",
    "\n",
    "- inserting a widget with `@interact`\n",
    "\n",
    "\n"
   ]
  },
  {
   "cell_type": "code",
   "execution_count": null,
   "metadata": {
    "slideshow": {
     "slide_type": "subslide"
    }
   },
   "outputs": [],
   "source": [
    "%%html\n",
    "<video with=\"80%\" height=\"80%\" controls><source src=\"./demo_interact-short.ogv\"></video>"
   ]
  },
  {
   "cell_type": "markdown",
   "metadata": {
    "slideshow": {
     "slide_type": "slide"
    }
   },
   "source": [
    "## Tossing Dominos\n",
    "\n",
    "*an implementation of*\n",
    "http://images.math.cnrs.fr/Pavages-aleatoires-par-touillage \n",
    "\n",
    "- a step-by-step approach to the problem of tiling an aztec diamond graph with a perfect matching"
   ]
  },
  {
   "cell_type": "markdown",
   "metadata": {
    "scrolled": false,
    "slideshow": {
     "slide_type": "subslide"
    }
   },
   "source": [
    "<table><tr><td><img src=\"./images/TossingAlgorithm.png\"></td><td><img src=\"./images/TossedDiamond22.png\"></td>\n",
    "</tr></table>"
   ]
  },
  {
   "cell_type": "code",
   "execution_count": null,
   "metadata": {
    "slideshow": {
     "slide_type": "subslide"
    }
   },
   "outputs": [],
   "source": [
    "%%html\n",
    "<video with=\"90%\" height=\"90%\" controls><source src=\"./TossingDomino-short.ogv\"></video>"
   ]
  },
  {
   "cell_type": "markdown",
   "metadata": {
    "slideshow": {
     "slide_type": "slide"
    }
   },
   "source": [
    "## Your own widget:  *Jeu de Taquin* example\n",
    "\n",
    "*based on an experiment by Florent Hivert <https://github.com/hivert/SageWidgetExper>*"
   ]
  },
  {
   "cell_type": "code",
   "execution_count": null,
   "metadata": {
    "slideshow": {
     "slide_type": "fragment"
    }
   },
   "outputs": [],
   "source": [
    "%%html\n",
    "<video with=\"100%\" height=\"100%\" controls><source src=\"./demo_taquin.ogv\"></video>"
   ]
  },
  {
   "cell_type": "markdown",
   "metadata": {
    "slideshow": {
     "slide_type": "subslide"
    }
   },
   "source": [
    "### Math code *(by F Hivert)*"
   ]
  },
  {
   "cell_type": "code",
   "execution_count": null,
   "metadata": {
    "slideshow": {
     "slide_type": "fragment"
    }
   },
   "outputs": [],
   "source": [
    "    def create_hole(self, corner):\n",
    "        #/.../\n",
    "        inner_corners = self.inner_shape().corners()\n",
    "        if tuple(corner) not in inner_corners:\n",
    "            raise ValueError(\"corner must be an inner corner\")\n",
    "        self._hole = corner\n",
    "        self._new_st = self.to_list()\n",
    "        spotl, spotc = self._hole\n",
    "        self._new_st[spotl][spotc] = True\n",
    "\n",
    "    def slide(self):\n",
    "        if self._hole is None:\n",
    "            raise ValueError, \"There is no hole\"\n",
    "        spotl, spotc = self._hole\n",
    "        #Check to see if there is nothing to the right\n",
    "        if spotc == len(self._new_st[spotl]) - 1:\n",
    "            #Swap the hole with the cell below\n",
    "            self._new_st[spotl][spotc] = self._new_st[spotl+1][spotc]\n",
    "            self._new_st[spotl+1][spotc] = -1\n",
    "            spotl += 1\n",
    "        #Check to see if there is nothing below\n",
    "        elif (spotl == len(self._new_st) - 1 or\n",
    "              len(self._new_st[spotl+1]) <= spotc):\n",
    "                  #Swap the hole with the cell to the right\n",
    "                  #/.../\n",
    "                  more_code"
   ]
  },
  {
   "cell_type": "markdown",
   "metadata": {
    "slideshow": {
     "slide_type": "subslide"
    }
   },
   "source": [
    "### Adapter source code"
   ]
  },
  {
   "cell_type": "code",
   "execution_count": null,
   "metadata": {
    "slideshow": {
     "slide_type": "fragment"
    }
   },
   "outputs": [],
   "source": [
    "# What happens when you click\n",
    "@classmethod\n",
    "def add_cell(cls, obj, pos, val, dirty={}):\n",
    "    # Create a hole if there isn't\n",
    "    if not obj.has_hole():\n",
    "        obj.create_hole(pos)\n",
    "    # Slide\n",
    "    obj.slide()\n",
    "    return obj"
   ]
  },
  {
   "cell_type": "markdown",
   "metadata": {
    "slideshow": {
     "slide_type": "slide"
    }
   },
   "source": [
    "## Conclusion\n",
    "\n",
    "- Thanks for listening!\n",
    "- *$ pip install sage-combinat-widgets*\n",
    "- demo on https://github.com/sagemath/sage-combinat-widgets/blob/master/demo_GridViewWidget.ipynb (also available on binder)\n",
    "- Sage widget adapter tutorial at https://github.com/sagemath/sage-combinat-widgets/blob/master/tuto_adapter.ipynb (also available on binder)\n",
    "- *<odile.benassy@u-psud.fr>*"
   ]
  },
  {
   "cell_type": "markdown",
   "metadata": {
    "slideshow": {
     "slide_type": "fragment"
    }
   },
   "source": [
    "<center><table><tr><td><img width=\"40%\" height=\"40%\" src=\"./demo_taquin.gif\"/></td></tr></table></center>"
   ]
  }
 ],
 "metadata": {
  "celltoolbar": "Slideshow",
  "kernelspec": {
   "display_name": "SageMath 8.6",
   "language": "",
   "name": "sagemath"
  },
  "language_info": {
   "codemirror_mode": {
    "name": "ipython",
    "version": 2
   },
   "file_extension": ".py",
   "mimetype": "text/x-python",
   "name": "python",
   "nbconvert_exporter": "python",
   "pygments_lexer": "ipython2",
   "version": "2.7.15"
  }
 },
 "nbformat": 4,
 "nbformat_minor": 2
}
